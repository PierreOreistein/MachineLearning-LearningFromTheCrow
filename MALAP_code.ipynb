{
 "cells": [
  {
   "cell_type": "markdown",
   "metadata": {
    "deletable": true,
    "editable": true
   },
   "source": [
    "## Bibliothèques"
   ]
  },
  {
   "cell_type": "code",
   "execution_count": 198,
   "metadata": {
    "collapsed": true,
    "deletable": true,
    "editable": true
   },
   "outputs": [],
   "source": [
    "import numpy as np\n",
    "import matplotlib.pyplot as plt\n",
    "%matplotlib inline\n",
    "\n",
    "import pandas as pd\n",
    "import random as rd\n",
    "from tqdm import tqdm"
   ]
  },
  {
   "cell_type": "markdown",
   "metadata": {
    "deletable": true,
    "editable": true
   },
   "source": [
    "## Données"
   ]
  },
  {
   "cell_type": "code",
   "execution_count": 199,
   "metadata": {
    "collapsed": true,
    "deletable": true,
    "editable": true
   },
   "outputs": [],
   "source": [
    "def traitement(data_init):\n",
    "    n, m = np.shape(data_init)\n",
    "    result = np.zeros((0,m))\n",
    "    for i in range(n):\n",
    "        string = \"?\"\n",
    "        if string not in data_init[i,:]:\n",
    "            result = np.vstack((result, data_init[i,:]))\n",
    "    result = np.array(result, dtype = float)\n",
    "    return result"
   ]
  },
  {
   "cell_type": "code",
   "execution_count": 200,
   "metadata": {
    "collapsed": false,
    "deletable": true,
    "editable": true
   },
   "outputs": [],
   "source": [
    "data_init = pd.read_csv(\"mammographic_masses.data\",header=None)\n",
    "data_init = np.array(data_init)\n",
    "clean_data = traitement(data_init)\n",
    "\n",
    "### Signification de chaque caracteristique, dans l'ordre ###\n",
    "# BI RADS\n",
    "# Age de la patiente\n",
    "# Forme de la masse, non ordinal\n",
    "# Frontière de la masse, non ordinal \n",
    "# Densité, ordinal\n",
    "# Bénigne (0) ou maline (1)"
   ]
  },
  {
   "cell_type": "markdown",
   "metadata": {
    "deletable": true,
    "editable": true
   },
   "source": [
    "## Implémentation"
   ]
  },
  {
   "cell_type": "code",
   "execution_count": 201,
   "metadata": {
    "collapsed": true,
    "deletable": true,
    "editable": true
   },
   "outputs": [],
   "source": [
    "# Fonctions pour le calcul de parametres de l'algorithme EM\n",
    "\n",
    "def sigmoid(z):\n",
    "    # Calcul de la fonction sigmoide pour la regression logistique\n",
    "    return 1 / (1 + np.exp(-z))\n",
    "\n",
    "def p_i(w, x):\n",
    "    # w est un vecteur, x est une matrice\n",
    "    w = w.reshape(-1)\n",
    "    return sigmoid(x.dot(w))\n",
    "\n",
    "def a_i(alpha, annotations):\n",
    "    # Renvoie le vecteur des a_i\n",
    "    result = alpha**annotations * ((1-alpha)**(1 - annotations))\n",
    "    result = np.prod(result, axis=1)\n",
    "    return result\n",
    "\n",
    "def b_i(beta, annotations):\n",
    "    # Renvoie le vecteur des b_i\n",
    "    result = beta**(1 - annotations) * ((1-beta)**annotations)\n",
    "    result = np.prod(result, axis=1)\n",
    "    return result\n",
    "\n",
    "def alpha_j(mu, annotations):\n",
    "    # Renvoie le vecteur des alpha_j\n",
    "    return mu.dot(annotations) / np.sum(mu)\n",
    "\n",
    "def beta_j(mu, annotations):\n",
    "    # Renvoie le vecteur des beta_j\n",
    "    return (1 - mu).dot(1 - annotations) / np.sum(1 - mu)\n",
    "\n",
    "def mu_i(data, w, alpha, beta, annotations):\n",
    "    # Renvoie le vecteur des mu_i\n",
    "    a = a_i(alpha, annotations)\n",
    "    b = b_i(beta, annotations)\n",
    "    p = p_i(w, data)\n",
    "    numerateur = a*p\n",
    "    denominateur = numerateur + b*(1-p)\n",
    "    result = np.where(denominateur > 0, numerateur/denominateur, 0.5)\n",
    "    return result"
   ]
  },
  {
   "cell_type": "code",
   "execution_count": 202,
   "metadata": {
    "collapsed": false,
    "deletable": true,
    "editable": true
   },
   "outputs": [],
   "source": [
    "def norme(w):\n",
    "    # Renvoie la norme du vecteur w\n",
    "    return(np.sqrt(w.dot(w)))\n",
    "\n",
    "def grad(data, mu, w):\n",
    "    p = p_i(w, data)\n",
    "    return (mu - p).dot(data)\n",
    "\n",
    "def hess(data, w):\n",
    "    p = p_i(w, data)\n",
    "    diag = np.diag(p * (1 - p))\n",
    "    return - (data.T).dot(diag.dot(data))\n",
    "\n",
    "def gradient_descent(grad_f, hess_f, data, mu, winit, max_iter = 1000, stop = 1e-4):\n",
    "    # Descente de gradient pour estimer la valeur optimale de w\n",
    "    pas = 1\n",
    "    w = winit\n",
    "    w_moins = 0\n",
    "    i = 1\n",
    "    while (i<max_iter) & (norme(w-w_moins)>stop):\n",
    "        w_moins = w\n",
    "        w = w_moins - pas * np.linalg.inv(hess_f(data,w)).dot(grad_f(data,mu,w))\n",
    "        pas = 1/np.sqrt(i)\n",
    "        i += 1\n",
    "    return w"
   ]
  },
  {
   "cell_type": "code",
   "execution_count": 203,
   "metadata": {
    "collapsed": true,
    "deletable": true,
    "editable": true
   },
   "outputs": [],
   "source": [
    "def EM_algorithm(data, annotations, winit, nb_iter = 50):\n",
    "    # Calcule l'argument maximisant la vraisemblance\n",
    "    mu = np.mean(annotations, axis = 1) # initilisation de mu\n",
    "    w = winit # initialisation de w\n",
    "    \n",
    "    for ite in tqdm(range(nb_iter)):\n",
    "        # M step\n",
    "        alpha = alpha_j(mu, annotations) # met à jour alpha\n",
    "        beta = beta_j(mu, annotations) # met à jour beta\n",
    "        w = gradient_descent(grad, hess, data, mu, w) # met à jour w\n",
    "        # E step\n",
    "        mu = mu_i(data, w, alpha, beta, annotations) # met à jour mu\n",
    "        \n",
    "    return w, alpha, beta, mu"
   ]
  },
  {
   "cell_type": "markdown",
   "metadata": {
    "deletable": true,
    "editable": true
   },
   "source": [
    "# Simulation d'avis"
   ]
  },
  {
   "cell_type": "code",
   "execution_count": 204,
   "metadata": {
    "collapsed": false,
    "deletable": true,
    "editable": true
   },
   "outputs": [],
   "source": [
    "def doc_decide(alpha, beta, label):\n",
    "    if label == 0:\n",
    "        return int(rd.random() > beta)\n",
    "    else:\n",
    "        return int(rd.random() < alpha)\n",
    "    \n",
    "def choix_medecin(alphas, betas, labels):\n",
    "    # Simulation du choix de chaque radiologue\n",
    "    nb_medecin = len(alphas)\n",
    "    nb_patient = np.shape(labels)[0]\n",
    "    data = np.array([[doc_decide(alphas[j], betas[j], labels[i]) for j in range(nb_medecin) ] for i in range(nb_patient)])\n",
    "    return data"
   ]
  },
  {
   "cell_type": "markdown",
   "metadata": {
    "deletable": true,
    "editable": true
   },
   "source": [
    "# Test"
   ]
  },
  {
   "cell_type": "code",
   "execution_count": 205,
   "metadata": {
    "collapsed": false,
    "deletable": true,
    "editable": true,
    "scrolled": true
   },
   "outputs": [
    {
     "name": "stderr",
     "output_type": "stream",
     "text": [
      "100%|█████████████████████████████████████████| 70/70 [00:00<00:00, 194.79it/s]\n"
     ]
    },
    {
     "name": "stdout",
     "output_type": "stream",
     "text": [
      "Alpha\n",
      "d'origine :  [ 0.9   0.8   0.57  0.6   0.55]\n",
      "calculé   :  [ 0.9026308   0.81548304  0.52189021  0.62189683  0.56498187]\n",
      "Max des erreurs sur les alpha_j :  0.0481097887822\n",
      "\n",
      "\n",
      "Beta : \n",
      "d'origine :  [ 0.95  0.85  0.62  0.65  0.58]\n",
      "calculé   :  [ 0.97530335  0.87639311  0.61501935  0.68808601  0.58841975]\n",
      "Max des erreurs sur les beta_j :  0.0380860067841\n",
      "\n",
      "\n",
      "Erreur label :  403.0 419.737386366\n"
     ]
    }
   ],
   "source": [
    "# Spécificite et sensibilite des annotateurs \n",
    "alphas = np.array([0.9, 0.8, 0.57, 0.6, 0.55])\n",
    "betas = np.array([0.95, 0.85, 0.62, 0.65, 0.58])\n",
    "\n",
    "# Données pour l'apprentissage\n",
    "data = clean_data[:,0:4]\n",
    "labels = np.array(clean_data[:,5])\n",
    "annotations = choix_medecin(alphas, betas, labels)\n",
    "\n",
    "# Valeur initiale\n",
    "data_line_nb, data_col_nb = np.shape(data)\n",
    "winit = 0.01 * np.random.rand(data_col_nb)\n",
    "\n",
    "# Optimisation\n",
    "w, alpha, beta, mu = EM_algorithm(data=data, annotations=annotations, winit=winit, nb_iter = 70)\n",
    "\n",
    "# Affichage des résultats\n",
    "print('Alpha')\n",
    "print(\"d'origine : \", alphas)\n",
    "print(\"calculé   : \", alpha)\n",
    "print('Max des erreurs sur les alpha_j : ', np.max(abs(alphas-alpha)))\n",
    "print('\\n')\n",
    "\n",
    "print('Beta : ')\n",
    "print(\"d'origine : \", betas)\n",
    "print(\"calculé   : \", beta)\n",
    "print('Max des erreurs sur les beta_j : ', np.max(abs(betas-beta)))\n",
    "print('\\n')\n",
    "\n",
    "print('Erreur label : ', np.sum(labels), np.sum(mu))"
   ]
  },
  {
   "cell_type": "markdown",
   "metadata": {
    "deletable": true,
    "editable": true
   },
   "source": [
    "Ci-dessous, on apprend sur la base de données pour ensuite estimer le cas de chaque patient. Pour cela, on calcule la probabilité suivant l'hypothèse de régression logistique. On fait ensuite appel à un seuil $\\gamma$ pour décider de quel côté se ranger."
   ]
  },
  {
   "cell_type": "code",
   "execution_count": 206,
   "metadata": {
    "collapsed": false,
    "deletable": true,
    "editable": true,
    "scrolled": true
   },
   "outputs": [
    {
     "name": "stderr",
     "output_type": "stream",
     "text": [
      "100%|█████████████████████████████████████████| 70/70 [00:00<00:00, 135.16it/s]\n",
      "100%|██████████████████████████████████████| 500/500 [00:00<00:00, 1544.58it/s]\n"
     ]
    },
    {
     "data": {
      "text/plain": [
       "<matplotlib.text.Text at 0x8417aba9e8>"
      ]
     },
     "execution_count": 206,
     "metadata": {},
     "output_type": "execute_result"
    },
    {
     "data": {
      "image/png": "[encoded data removed]",
      "text/plain": [
       "<matplotlib.figure.Figure at 0x84149e26a0>"
      ]
     },
     "metadata": {},
     "output_type": "display_data"
    }
   ],
   "source": [
    "# Spécificite et sensibilite des annotateurs \n",
    "alphas = np.array([0.9, 0.8, 0.57, 0.6, 0.55])\n",
    "betas = np.array([0.95, 0.85, 0.62, 0.65, 0.58])\n",
    "\n",
    "# Données pour l'apprentissage\n",
    "data = clean_data[:,0:4]\n",
    "labels = np.array(clean_data[:,5])\n",
    "annotations = choix_medecin(alphas, betas, labels)\n",
    "\n",
    "# Valeur initiale\n",
    "data_line_nb, data_col_nb = np.shape(data)\n",
    "winit = 0.01 * np.random.rand(data_col_nb)\n",
    "\n",
    "# Optimisation\n",
    "w, alpha, beta, mu = EM_algorithm(data=data, annotations=annotations, winit=winit, nb_iter = 70)\n",
    "\n",
    "# Utilisation de seuils pour arbitrer le rapport vrai-positif/vrai-negatif\n",
    "gammas = np.linspace(0.4, 0.8, 500)\n",
    "reglog_prob = sigmoid(p_i(w, data))\n",
    "\n",
    "# Tracé du diagramme ROC\n",
    "labels_0_index = np.array([i for i in range(len(labels)) if labels[i] == 0])\n",
    "labels_0_nb = len(labels_0_index)\n",
    "labels_1_index = np.array([i for i in range(len(labels)) if labels[i] == 1])\n",
    "labels_1_nb = len(labels_1_index)\n",
    "TP_list = []\n",
    "FN_list = []\n",
    "for gamma in tqdm(gammas):\n",
    "    choice = np.where(reglog_prob > gamma, 1, 0)\n",
    "    TP = np.sum([labels[i] == choice[i] for i in labels_1_index]) / labels_1_nb\n",
    "    FN = 1 - np.sum([labels[i] == choice[i] for i in labels_0_index]) / labels_0_nb\n",
    "    TP_list.append(TP)\n",
    "    FN_list.append(FN)\n",
    "plt.plot(FN_list, TP_list)\n",
    "plt.title(\"Diagramme ROC\")"
   ]
  },
  {
   "cell_type": "code",
   "execution_count": null,
   "metadata": {
    "collapsed": false,
    "deletable": true,
    "editable": true
   },
   "outputs": [],
   "source": []
  }
 ],
 "metadata": {
  "kernelspec": {
   "display_name": "Python 3",
   "language": "python",
   "name": "python3"
  },
  "language_info": {
   "codemirror_mode": {
    "name": "ipython",
    "version": 3
   },
   "file_extension": ".py",
   "mimetype": "text/x-python",
   "name": "python",
   "nbconvert_exporter": "python",
   "pygments_lexer": "ipython3",
   "version": "3.5.2"
  }
 },
 "nbformat": 4,
 "nbformat_minor": 2
}
