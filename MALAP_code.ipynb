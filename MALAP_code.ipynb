{
 "cells": [
  {
   "cell_type": "code",
   "execution_count": 36,
   "metadata": {
    "collapsed": true,
    "deletable": true,
    "editable": true
   },
   "outputs": [],
   "source": [
    "import numpy as np\n",
    "import matplotlib.pyplot as plt\n",
    "%matplotlib inline\n",
    "\n",
    "import pandas as pd\n",
    "\n",
    "import random as rd"
   ]
  },
  {
   "cell_type": "code",
   "execution_count": 98,
   "metadata": {
    "collapsed": true
   },
   "outputs": [],
   "source": [
    "def traitement(data_init):\n",
    "    n, m = np.shape(data_init)\n",
    "    result = np.zeros((0,m))\n",
    "    for i in range(n):\n",
    "        string = \"?\"\n",
    "        if string not in data_init[i,:]:\n",
    "            result = np.vstack((result, data_init[i,:]))\n",
    "    result = np.array(result, dtype = float)\n",
    "    return result"
   ]
  },
  {
   "cell_type": "code",
   "execution_count": 99,
   "metadata": {
    "collapsed": false,
    "deletable": true,
    "editable": true
   },
   "outputs": [],
   "source": [
    "data_init = pd.read_csv(\"mammographic_masses.data\",header=None)\n",
    "data_init = np.array(data_init)\n",
    "clean_data = traitement(data_init)\n",
    "### Signification de chaque caracteristique, dans l'ordre ###\n",
    "# BI RADS\n",
    "# Age de la patiente\n",
    "# Forme de la masse, non ordinal\n",
    "# Frontière de la masse, non ordinal \n",
    "# Densité, ordinal\n",
    "# Bénigne (0) ou maline (1)"
   ]
  },
  {
   "cell_type": "code",
   "execution_count": 100,
   "metadata": {
    "collapsed": false,
    "deletable": true,
    "editable": true
   },
   "outputs": [
    {
     "name": "stdout",
     "output_type": "stream",
     "text": [
      "Nombre de cas bénins : 1\n",
      "Nombre de cas malins : 0\n"
     ]
    },
    {
     "data": {
      "text/plain": [
       "[<matplotlib.lines.Line2D at 0xbc41f2c780>]"
      ]
     },
     "execution_count": 100,
     "metadata": {},
     "output_type": "execute_result"
    },
    {
     "data": {
      "image/png": "[encoded data removed]",
      "text/plain": [
       "<matplotlib.figure.Figure at 0xbc3cdb8908>"
      ]
     },
     "metadata": {},
     "output_type": "display_data"
    }
   ],
   "source": [
    "# Répartition des issues\n",
    "print(\"Nombre de cas bénins : \" + str(sum(data_init[5] == 0)))\n",
    "print(\"Nombre de cas malins : \" + str(sum(data_init[5] == 1)))\n",
    "\n",
    "# Evaluations avec BI RADS\n",
    "plt.figure()\n",
    "plt.title(\"Répartition des BI RADS\")\n",
    "plt.plot(range(1,6), [sum(data_init[0] == str(i)) for i in range(1,6)], 'bo')"
   ]
  },
  {
   "cell_type": "code",
   "execution_count": 120,
   "metadata": {
    "collapsed": true,
    "deletable": true,
    "editable": true
   },
   "outputs": [],
   "source": [
    "# Simulation de choix de medecins par lancer de piece par la classification binaire\n",
    "\n",
    "# Classification binaire en utilisant raykar\n",
    "\n",
    "# Autres classifications a venir sur meme modele\n",
    "# Sous condition de trouver base de donnees adapte ( ou utiliser celle la comme il faut)"
   ]
  },
  {
   "cell_type": "code",
   "execution_count": 121,
   "metadata": {
    "collapsed": true,
    "deletable": true,
    "editable": true
   },
   "outputs": [],
   "source": [
    "def sigmoid(z):\n",
    "    return 1 / (1 + np.exp(-z))\n",
    "\n",
    "def p_i(w, x):\n",
    "    # w est un vecteur, x est une matrice\n",
    "    w = w.reshape(-1)\n",
    "    return sigmoid(w.dot(x.T))\n",
    "\n",
    "def a_i(alpha, y):\n",
    "    # Renvoie le vecteur des a_i\n",
    "    # On passe par le logarithme pour calculer le produit\n",
    "    log_alpha_1 = np.log(alpha)\n",
    "    log_alpha_2 = np.log(1 - alpha)\n",
    "    log_sum = y.dot(log_alpha_1) + (1 - y).dot(log_alpha_2)\n",
    "    return np.exp(log_sum)\n",
    "\n",
    "def b_i(beta, y):\n",
    "    # Renvoie le vecteur des b_i\n",
    "    # On passe par le logarithme pour calculer le produit\n",
    "    log_alpha_1 = np.log(beta)\n",
    "    log_alpha_2 = np.log(1 - beta)\n",
    "    log_sum = y.dot(log_alpha_1) + (1 - y).dot(log_alpha_2)\n",
    "    return np.exp(log_sum)\n",
    "\n",
    "def alpha_j(mu, y):\n",
    "    return mu.dot(y) / np.sum(mu)\n",
    "\n",
    "def beta_j(mu, y):\n",
    "    return (1 - mu).dot(1 - y) / np.sum(1 - mu)\n",
    "\n",
    "def mu_i(data, w, alpha, beta, y):\n",
    "    a = a_i(alpha, y)\n",
    "    p = p_i(w, data)\n",
    "    b = b_i(beta, y)\n",
    "    numerateur = a*p\n",
    "    denominateur = numerateur + b*(1-p)\n",
    "    return numerateur/denominateur"
   ]
  },
  {
   "cell_type": "code",
   "execution_count": 122,
   "metadata": {
    "collapsed": false,
    "deletable": true,
    "editable": true
   },
   "outputs": [],
   "source": [
    "def norme(w):\n",
    "    print(np.shape(w))\n",
    "    return(np.sqrt(w.dot(w)))\n",
    "\n",
    "def grad(data, mu, w):\n",
    "    p = p_i(w, data)\n",
    "    return (mu - p).dot(data)\n",
    "\n",
    "def hess(data, w):\n",
    "    p = p_i(w,data)\n",
    "    diag = np.diag(p * (1 - p))\n",
    "    return - (data.T).dot(diag.dot(data))\n",
    "\n",
    "def gradient_descent(grad_f, hess_f, data, mu, winit, max_iter = 1000, stop = 1e-4):\n",
    "    pas = 1\n",
    "    w = winit\n",
    "    w_plus = 0\n",
    "    i = 0\n",
    "    while (i<max_iter) & (norme(w_plus-w)>stop):\n",
    "        w_plus = w - pas * np.linalg.inv(hess_f(data,w)) * grad_f(data,mu,w)\n",
    "        pas = 1/np.sqrt(i)\n",
    "        w = w_plus\n",
    "        i += 1\n",
    "    return w"
   ]
  },
  {
   "cell_type": "code",
   "execution_count": 123,
   "metadata": {
    "collapsed": true,
    "deletable": true,
    "editable": true
   },
   "outputs": [],
   "source": [
    "def EM_algorithm(data, labels, winit, nb_iter = 50):\n",
    "    mu = np.mean(labels, axis = 1) #initilisation de mu\n",
    "    w = winit #initialisation de w\n",
    "    for ite in range(nb_iter):\n",
    "        # M step\n",
    "        alpha = alpha_j(mu, labels) #met à jour alpha\n",
    "        beta = beta_j(mu, labels) #met à jour beta\n",
    "        w = gradient_descent(grad, hess, data, mu, w) #met à jour w\n",
    "        # E step\n",
    "        mu = mu_i(data, w, alpha, beta, labels)#met à jour mu\n",
    "    return w, alpha, beta, mu"
   ]
  },
  {
   "cell_type": "code",
   "execution_count": 124,
   "metadata": {
    "collapsed": false,
    "deletable": true,
    "editable": true
   },
   "outputs": [],
   "source": [
    "# Simulation du choix de chaque radiologue\n",
    "\n",
    "def doc_decide(alpha, beta, label):\n",
    "    if label == 0:\n",
    "        return int(rd.random() > beta)\n",
    "    else:\n",
    "        return int(rd.random() < alpha)\n",
    "    \n",
    "def choix_medecin(alphas, betas, labels):\n",
    "    nb_medecin = len(alphas)\n",
    "    nb_patient = len(labels)\n",
    "    data = np.array([[doc_decide(alphas[j], betas[j], labels[i]) for j in range(nb_medecin) ] for i in range(nb_patient)])\n",
    "    return data"
   ]
  },
  {
   "cell_type": "code",
   "execution_count": 125,
   "metadata": {
    "collapsed": false,
    "deletable": true,
    "editable": true
   },
   "outputs": [
    {
     "name": "stdout",
     "output_type": "stream",
     "text": [
      "[[  5.  67.   3.   5.   3.   1.]\n",
      " [  5.  58.   4.   5.   3.   1.]\n",
      " [  4.  28.   1.   1.   3.   0.]\n",
      " [  5.  57.   1.   5.   3.   1.]]\n",
      "[[  5.  67.   3.   5.   3.   1.]\n",
      " [  5.  58.   4.   5.   3.   1.]\n",
      " [  4.  28.   1.   1.   3.   0.]\n",
      " [  5.  57.   1.   5.   3.   1.]]\n",
      "(6,)\n"
     ]
    },
    {
     "ename": "LinAlgError",
     "evalue": "Singular matrix",
     "output_type": "error",
     "traceback": [
      "\u001b[1;31m---------------------------------------------------------------------------\u001b[0m",
      "\u001b[1;31mLinAlgError\u001b[0m                               Traceback (most recent call last)",
      "\u001b[1;32m<ipython-input-125-44f368d8a105>\u001b[0m in \u001b[0;36m<module>\u001b[1;34m()\u001b[0m\n\u001b[0;32m     12\u001b[0m \u001b[0mwinit\u001b[0m \u001b[1;33m=\u001b[0m \u001b[0mnp\u001b[0m\u001b[1;33m.\u001b[0m\u001b[0mones\u001b[0m\u001b[1;33m(\u001b[0m\u001b[0mp\u001b[0m\u001b[1;33m)\u001b[0m\u001b[1;33m\u001b[0m\u001b[0m\n\u001b[0;32m     13\u001b[0m \u001b[1;33m\u001b[0m\u001b[0m\n\u001b[1;32m---> 14\u001b[1;33m \u001b[0mEM_algorithm\u001b[0m\u001b[1;33m(\u001b[0m\u001b[0mdata\u001b[0m\u001b[1;33m=\u001b[0m\u001b[0mdata\u001b[0m\u001b[1;33m,\u001b[0m \u001b[0mlabels\u001b[0m\u001b[1;33m=\u001b[0m\u001b[0mannotations\u001b[0m\u001b[1;33m,\u001b[0m \u001b[0mwinit\u001b[0m\u001b[1;33m=\u001b[0m\u001b[0mwinit\u001b[0m\u001b[1;33m)\u001b[0m\u001b[1;33m\u001b[0m\u001b[0m\n\u001b[0m",
      "\u001b[1;32m<ipython-input-123-d901eb2e77c5>\u001b[0m in \u001b[0;36mEM_algorithm\u001b[1;34m(data, labels, winit, nb_iter)\u001b[0m\n\u001b[0;32m      6\u001b[0m         \u001b[0malpha\u001b[0m \u001b[1;33m=\u001b[0m \u001b[0malpha_j\u001b[0m\u001b[1;33m(\u001b[0m\u001b[0mmu\u001b[0m\u001b[1;33m,\u001b[0m \u001b[0mlabels\u001b[0m\u001b[1;33m)\u001b[0m \u001b[1;31m#met à jour alpha\u001b[0m\u001b[1;33m\u001b[0m\u001b[0m\n\u001b[0;32m      7\u001b[0m         \u001b[0mbeta\u001b[0m \u001b[1;33m=\u001b[0m \u001b[0mbeta_j\u001b[0m\u001b[1;33m(\u001b[0m\u001b[0mmu\u001b[0m\u001b[1;33m,\u001b[0m \u001b[0mlabels\u001b[0m\u001b[1;33m)\u001b[0m \u001b[1;31m#met à jour beta\u001b[0m\u001b[1;33m\u001b[0m\u001b[0m\n\u001b[1;32m----> 8\u001b[1;33m         \u001b[0mw\u001b[0m \u001b[1;33m=\u001b[0m \u001b[0mgradient_descent\u001b[0m\u001b[1;33m(\u001b[0m\u001b[0mgrad\u001b[0m\u001b[1;33m,\u001b[0m \u001b[0mhess\u001b[0m\u001b[1;33m,\u001b[0m \u001b[0mdata\u001b[0m\u001b[1;33m,\u001b[0m \u001b[0mmu\u001b[0m\u001b[1;33m,\u001b[0m \u001b[0mw\u001b[0m\u001b[1;33m)\u001b[0m \u001b[1;31m#met à jour w\u001b[0m\u001b[1;33m\u001b[0m\u001b[0m\n\u001b[0m\u001b[0;32m      9\u001b[0m         \u001b[1;31m# E step\u001b[0m\u001b[1;33m\u001b[0m\u001b[1;33m\u001b[0m\u001b[0m\n\u001b[0;32m     10\u001b[0m         \u001b[0mmu\u001b[0m \u001b[1;33m=\u001b[0m \u001b[0mmu_i\u001b[0m\u001b[1;33m(\u001b[0m\u001b[0mdata\u001b[0m\u001b[1;33m,\u001b[0m \u001b[0mw\u001b[0m\u001b[1;33m,\u001b[0m \u001b[0malpha\u001b[0m\u001b[1;33m,\u001b[0m \u001b[0mbeta\u001b[0m\u001b[1;33m,\u001b[0m \u001b[0mlabels\u001b[0m\u001b[1;33m)\u001b[0m\u001b[1;31m#met à jour mu\u001b[0m\u001b[1;33m\u001b[0m\u001b[0m\n",
      "\u001b[1;32m<ipython-input-122-c8a45f37727a>\u001b[0m in \u001b[0;36mgradient_descent\u001b[1;34m(grad_f, hess_f, data, mu, winit, max_iter, stop)\u001b[0m\n\u001b[0;32m     18\u001b[0m     \u001b[0mi\u001b[0m \u001b[1;33m=\u001b[0m \u001b[1;36m0\u001b[0m\u001b[1;33m\u001b[0m\u001b[0m\n\u001b[0;32m     19\u001b[0m     \u001b[1;32mwhile\u001b[0m \u001b[1;33m(\u001b[0m\u001b[0mi\u001b[0m\u001b[1;33m<\u001b[0m\u001b[0mmax_iter\u001b[0m\u001b[1;33m)\u001b[0m \u001b[1;33m&\u001b[0m \u001b[1;33m(\u001b[0m\u001b[0mnorme\u001b[0m\u001b[1;33m(\u001b[0m\u001b[0mw_plus\u001b[0m\u001b[1;33m-\u001b[0m\u001b[0mw\u001b[0m\u001b[1;33m)\u001b[0m\u001b[1;33m>\u001b[0m\u001b[0mstop\u001b[0m\u001b[1;33m)\u001b[0m\u001b[1;33m:\u001b[0m\u001b[1;33m\u001b[0m\u001b[0m\n\u001b[1;32m---> 20\u001b[1;33m         \u001b[0mw_plus\u001b[0m \u001b[1;33m=\u001b[0m \u001b[0mw\u001b[0m \u001b[1;33m-\u001b[0m \u001b[0mpas\u001b[0m \u001b[1;33m*\u001b[0m \u001b[0mnp\u001b[0m\u001b[1;33m.\u001b[0m\u001b[0mlinalg\u001b[0m\u001b[1;33m.\u001b[0m\u001b[0minv\u001b[0m\u001b[1;33m(\u001b[0m\u001b[0mhess_f\u001b[0m\u001b[1;33m(\u001b[0m\u001b[0mdata\u001b[0m\u001b[1;33m,\u001b[0m\u001b[0mw\u001b[0m\u001b[1;33m)\u001b[0m\u001b[1;33m)\u001b[0m \u001b[1;33m*\u001b[0m \u001b[0mgrad_f\u001b[0m\u001b[1;33m(\u001b[0m\u001b[0mdata\u001b[0m\u001b[1;33m,\u001b[0m\u001b[0mmu\u001b[0m\u001b[1;33m,\u001b[0m\u001b[0mw\u001b[0m\u001b[1;33m)\u001b[0m\u001b[1;33m\u001b[0m\u001b[0m\n\u001b[0m\u001b[0;32m     21\u001b[0m         \u001b[0mpas\u001b[0m \u001b[1;33m=\u001b[0m \u001b[1;36m1\u001b[0m\u001b[1;33m/\u001b[0m\u001b[0mnp\u001b[0m\u001b[1;33m.\u001b[0m\u001b[0msqrt\u001b[0m\u001b[1;33m(\u001b[0m\u001b[0mi\u001b[0m\u001b[1;33m)\u001b[0m\u001b[1;33m\u001b[0m\u001b[0m\n\u001b[0;32m     22\u001b[0m         \u001b[0mw\u001b[0m \u001b[1;33m=\u001b[0m \u001b[0mw_plus\u001b[0m\u001b[1;33m\u001b[0m\u001b[0m\n",
      "\u001b[1;32mc:\\users\\antoine\\miniconda3\\lib\\site-packages\\numpy\\linalg\\linalg.py\u001b[0m in \u001b[0;36minv\u001b[1;34m(a)\u001b[0m\n\u001b[0;32m    524\u001b[0m     \u001b[0msignature\u001b[0m \u001b[1;33m=\u001b[0m \u001b[1;34m'D->D'\u001b[0m \u001b[1;32mif\u001b[0m \u001b[0misComplexType\u001b[0m\u001b[1;33m(\u001b[0m\u001b[0mt\u001b[0m\u001b[1;33m)\u001b[0m \u001b[1;32melse\u001b[0m \u001b[1;34m'd->d'\u001b[0m\u001b[1;33m\u001b[0m\u001b[0m\n\u001b[0;32m    525\u001b[0m     \u001b[0mextobj\u001b[0m \u001b[1;33m=\u001b[0m \u001b[0mget_linalg_error_extobj\u001b[0m\u001b[1;33m(\u001b[0m\u001b[0m_raise_linalgerror_singular\u001b[0m\u001b[1;33m)\u001b[0m\u001b[1;33m\u001b[0m\u001b[0m\n\u001b[1;32m--> 526\u001b[1;33m     \u001b[0mainv\u001b[0m \u001b[1;33m=\u001b[0m \u001b[0m_umath_linalg\u001b[0m\u001b[1;33m.\u001b[0m\u001b[0minv\u001b[0m\u001b[1;33m(\u001b[0m\u001b[0ma\u001b[0m\u001b[1;33m,\u001b[0m \u001b[0msignature\u001b[0m\u001b[1;33m=\u001b[0m\u001b[0msignature\u001b[0m\u001b[1;33m,\u001b[0m \u001b[0mextobj\u001b[0m\u001b[1;33m=\u001b[0m\u001b[0mextobj\u001b[0m\u001b[1;33m)\u001b[0m\u001b[1;33m\u001b[0m\u001b[0m\n\u001b[0m\u001b[0;32m    527\u001b[0m     \u001b[1;32mreturn\u001b[0m \u001b[0mwrap\u001b[0m\u001b[1;33m(\u001b[0m\u001b[0mainv\u001b[0m\u001b[1;33m.\u001b[0m\u001b[0mastype\u001b[0m\u001b[1;33m(\u001b[0m\u001b[0mresult_t\u001b[0m\u001b[1;33m,\u001b[0m \u001b[0mcopy\u001b[0m\u001b[1;33m=\u001b[0m\u001b[1;32mFalse\u001b[0m\u001b[1;33m)\u001b[0m\u001b[1;33m)\u001b[0m\u001b[1;33m\u001b[0m\u001b[0m\n\u001b[0;32m    528\u001b[0m \u001b[1;33m\u001b[0m\u001b[0m\n",
      "\u001b[1;32mc:\\users\\antoine\\miniconda3\\lib\\site-packages\\numpy\\linalg\\linalg.py\u001b[0m in \u001b[0;36m_raise_linalgerror_singular\u001b[1;34m(err, flag)\u001b[0m\n\u001b[0;32m     88\u001b[0m \u001b[1;33m\u001b[0m\u001b[0m\n\u001b[0;32m     89\u001b[0m \u001b[1;32mdef\u001b[0m \u001b[0m_raise_linalgerror_singular\u001b[0m\u001b[1;33m(\u001b[0m\u001b[0merr\u001b[0m\u001b[1;33m,\u001b[0m \u001b[0mflag\u001b[0m\u001b[1;33m)\u001b[0m\u001b[1;33m:\u001b[0m\u001b[1;33m\u001b[0m\u001b[0m\n\u001b[1;32m---> 90\u001b[1;33m     \u001b[1;32mraise\u001b[0m \u001b[0mLinAlgError\u001b[0m\u001b[1;33m(\u001b[0m\u001b[1;34m\"Singular matrix\"\u001b[0m\u001b[1;33m)\u001b[0m\u001b[1;33m\u001b[0m\u001b[0m\n\u001b[0m\u001b[0;32m     91\u001b[0m \u001b[1;33m\u001b[0m\u001b[0m\n\u001b[0;32m     92\u001b[0m \u001b[1;32mdef\u001b[0m \u001b[0m_raise_linalgerror_nonposdef\u001b[0m\u001b[1;33m(\u001b[0m\u001b[0merr\u001b[0m\u001b[1;33m,\u001b[0m \u001b[0mflag\u001b[0m\u001b[1;33m)\u001b[0m\u001b[1;33m:\u001b[0m\u001b[1;33m\u001b[0m\u001b[0m\n",
      "\u001b[1;31mLinAlgError\u001b[0m: Singular matrix"
     ]
    }
   ],
   "source": [
    "alphas = np.array([1,0.9, 0.8, 0.57, 0.6, 0.55, 0])\n",
    "betas = np.array([1,0.95, 0.85, 0.62, 0.65, 0.58, 0])\n",
    "\n",
    "data = clean_data[0:4]\n",
    "print(data)\n",
    "\n",
    "truth = np.array(clean_data[5])\n",
    "print(data)\n",
    "\n",
    "annotations = choix_medecin(alphas, betas, truth)\n",
    "n, p = np.shape(clean_data)\n",
    "winit = np.ones(p)\n",
    "\n",
    "EM_algorithm(data=data, labels=annotations, winit=winit)"
   ]
  },
  {
   "cell_type": "code",
   "execution_count": 126,
   "metadata": {
    "collapsed": false,
    "deletable": true,
    "editable": true
   },
   "outputs": [
    {
     "name": "stdout",
     "output_type": "stream",
     "text": [
      "[ 0.62245933  0.7109495 ]\n",
      "[[-0.44050402 -0.41100061]\n",
      " [-0.41100061 -0.82200123]]\n",
      "[[ 0.44050402  0.41100061]\n",
      " [ 0.41100061  0.82200123]]\n",
      "[0 1 0 1 0 1 0 1 0 1]\n",
      "[[0 0 1 1 0 0 1]\n",
      " [1 1 0 0 0 1 0]\n",
      " [0 0 0 1 0 0 1]\n",
      " [1 0 1 1 0 0 0]\n",
      " [0 0 0 0 1 0 1]\n",
      " [1 1 1 1 1 0 0]\n",
      " [0 0 0 0 1 0 1]\n",
      " [1 1 1 1 1 1 0]\n",
      " [0 0 0 1 0 1 1]\n",
      " [1 1 1 1 1 1 0]]\n"
     ]
    }
   ],
   "source": [
    "w = np.array([0.5, 0.2])\n",
    "x = np.array([[1,0],[1,2]])\n",
    "\n",
    "print(p_i(w,x))\n",
    "print(hess(x,w))\n",
    "print(hess_alt(x,w))\n",
    "\n",
    "alphas = np.array([1,0.9, 0.8, 0.57, 0.6, 0.55, 0])\n",
    "betas = np.array([1,0.95, 0.85, 0.62, 0.65, 0.58, 0])\n",
    "\n",
    "don = np.array([i%2 for i in range(10)])\n",
    "lev = np.array([i*1.0/5 for i in range(6)])\n",
    "M = choix_medecin(alphas, betas, don)\n",
    "M[:,1]==don\n",
    "print(don)\n",
    "print(M)"
   ]
  },
  {
   "cell_type": "code",
   "execution_count": null,
   "metadata": {
    "collapsed": true
   },
   "outputs": [],
   "source": []
  },
  {
   "cell_type": "code",
   "execution_count": null,
   "metadata": {
    "collapsed": true
   },
   "outputs": [],
   "source": []
  }
 ],
 "metadata": {
  "kernelspec": {
   "display_name": "Python 3",
   "language": "python",
   "name": "python3"
  },
  "language_info": {
   "codemirror_mode": {
    "name": "ipython",
    "version": 3
   },
   "file_extension": ".py",
   "mimetype": "text/x-python",
   "name": "python",
   "nbconvert_exporter": "python",
   "pygments_lexer": "ipython3",
   "version": "3.5.2"
  }
 },
 "nbformat": 4,
 "nbformat_minor": 2
}
