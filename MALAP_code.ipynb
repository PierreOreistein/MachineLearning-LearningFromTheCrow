{
 "cells": [
  {
   "cell_type": "code",
   "execution_count": 4,
   "metadata": {
    "collapsed": true,
    "deletable": true,
    "editable": true
   },
   "outputs": [],
   "source": [
    "import numpy as np\n",
    "import matplotlib.pyplot as plt\n",
    "%matplotlib inline\n",
    "\n",
    "import pandas as pd\n",
    "\n",
    "import random as rd"
   ]
  },
  {
   "cell_type": "code",
   "execution_count": 81,
   "metadata": {
    "collapsed": false,
    "deletable": true,
    "editable": true
   },
   "outputs": [],
   "source": [
    "data = pd.read_csv(\"mammographic_masses.data\",header=None)\n",
    "### Signification de chaque caracteristique, dans l'ordre ###\n",
    "# BI RADS\n",
    "# Age de la patiente\n",
    "# Forme de la masse, non ordinal\n",
    "# Frontière de la masse, non ordinal \n",
    "# Densité, ordinal\n",
    "# Bénigne (0) ou maline (1)"
   ]
  },
  {
   "cell_type": "code",
   "execution_count": 36,
   "metadata": {
    "collapsed": false,
    "deletable": true,
    "editable": true
   },
   "outputs": [
    {
     "name": "stdout",
     "output_type": "stream",
     "text": [
      "Nombre de cas bénins : 516\n",
      "Nombre de cas malins : 445\n"
     ]
    },
    {
     "data": {
      "text/plain": [
       "[<matplotlib.lines.Line2D at 0x1a6bc35278>]"
      ]
     },
     "execution_count": 36,
     "metadata": {},
     "output_type": "execute_result"
    },
    {
     "data": {
      "image/png": "[encoded data removed]",
      "text/plain": [
       "<matplotlib.figure.Figure at 0x1a6bd20198>"
      ]
     },
     "metadata": {},
     "output_type": "display_data"
    }
   ],
   "source": [
    "# Répartition des issues\n",
    "print(\"Nombre de cas bénins : \" + str(sum(data[5] == 0)))\n",
    "print(\"Nombre de cas malins : \" + str(sum(data[5] == 1)))\n",
    "\n",
    "# Evaluations avec BI RADS\n",
    "plt.figure()\n",
    "plt.title(\"Répartition des BI RADS\")\n",
    "plt.plot(range(1,6), [sum(data[0] == str(i)) for i in range(1,6)], 'bo')"
   ]
  },
  {
   "cell_type": "code",
   "execution_count": 34,
   "metadata": {
    "collapsed": true,
    "deletable": true,
    "editable": true
   },
   "outputs": [],
   "source": [
    "# Simulation de choix de medecins par lancer de piece par la classification binaire\n",
    "\n",
    "# Classification binaire en utilisant raykar\n",
    "\n",
    "# Autres classifications a venir sur meme modele\n",
    "# Sous condition de trouver base de donnees adapte ( ou utiliser celle la comme il faut)"
   ]
  },
  {
   "cell_type": "code",
   "execution_count": 74,
   "metadata": {
    "collapsed": true
   },
   "outputs": [],
   "source": [
    "def sigmoid(z):\n",
    "    return 1 / (1 + np.exp(-z))\n",
    "\n",
    "def p_i(w, x):\n",
    "    # w est un vecteur, x est une matrice\n",
    "    w = w.reshape(-1)\n",
    "    return sigmoid(w.dot(x))\n",
    "\n",
    "def a_i(alpha, y):\n",
    "    # Renvoie le vecteur des a_i\n",
    "    # On passe par le logarithme pour calculer le produit\n",
    "    log_alpha_1 = np.log(alpha)\n",
    "    log_alpha_2 = np.log(1 - alpha)\n",
    "    log_sum = y.dot(log_alpha_1) + (1 - y).dot(log_alpha_2)\n",
    "    return np.exp(log_sum)\n",
    "\n",
    "def b_i(beta, y):\n",
    "    # Renvoie le vecteur des b_i\n",
    "    # On passe par le logarithme pour calculer le produit\n",
    "    log_alpha_1 = np.log(beta)\n",
    "    log_alpha_2 = np.log(1 - beta)\n",
    "    log_sum = y.dot(log_alpha_1) + (1 - y).dot(log_alpha_2)\n",
    "    return np.exp(log_sum)\n",
    "\n",
    "def alpha_j(mu, y):\n",
    "    return mu.dot(y) / np.sum(mu)\n",
    "\n",
    "def beta_j(mu, y):\n",
    "    return (1 - mu).dot(1 - y) / np.sum(1 - mu)\n",
    "\n",
    "def mu_i(data,w,alpha,y,mu):\n",
    "    a = a_i(alpha,y)\n",
    "    p = p_i(w,x)\n",
    "    b = b_i(mu,y)\n",
    "    numerateur = a*p\n",
    "    denominateur = numerateur + b*(1-p)\n",
    "    return numerateur/denominateur"
   ]
  },
  {
   "cell_type": "code",
   "execution_count": 71,
   "metadata": {
    "collapsed": false
   },
   "outputs": [],
   "source": [
    "def norme(w):\n",
    "    return(np.sqrt(w.dot(w)))\n",
    "\n",
    "def grad(data, mu, w):\n",
    "    p = p_i(w, data)\n",
    "    return (mu - p).dot(data)\n",
    "\n",
    "def hess(data, w):\n",
    "    p = p_i(w,data)\n",
    "    diag = np.diag(p * (1 - p))\n",
    "    hess_mat = diag.dot(data.T)\n",
    "    return diag.dot((data.T).dot(data))\n",
    "\n",
    "def gradient_descent(grad_vect, hess_mat, mu, winit, max_iter = 1000, stop = 1e-4):\n",
    "    pas = 1\n",
    "    w = winit\n",
    "    w_plus = 0\n",
    "    while (i<max_iter) & (norme(w_plus-w)>stop):\n",
    "        w_plus = w - pas * np.linalg.pinv(hess(data,w)) * grad(data,mu,w)\n",
    "        pas = 1/np.sqrt(i)\n",
    "        w = w_plus\n",
    "    return w"
   ]
  },
  {
   "cell_type": "code",
   "execution_count": 79,
   "metadata": {
    "collapsed": true
   },
   "outputs": [],
   "source": [
    "def EM_algorithm(data, labels, winit, nb_iter = 50):\n",
    "    mu = np.mean(labels, axis = 1) #initilisation de mu\n",
    "    w = winit #initialisation de w\n",
    "    for ite in range(nb_iter):\n",
    "        #E step\n",
    "        mu = mu_i(data,w,alpha,y,mu)#met à jour mu\n",
    "        #M step\n",
    "        alpha = alpha_j(mu, labels) #met à jour alpha\n",
    "        beta = beta_j(mu, labels) #met à jour beta\n",
    "        w = gradient_descent(grad(data,mu,w),hess(data,w),mu,w) #met à jour w"
   ]
  },
  {
   "cell_type": "code",
   "execution_count": 142,
   "metadata": {
    "collapsed": true
   },
   "outputs": [],
   "source": [
    "#Pour chaque patient, chaque medecin décide si la tumeur est maligne ou bénine.\n",
    "#Ce choix est modélisé comme étant un tirage uniforme sur [0,1]\n",
    "#Le \"niveau\" du medecin determine ensuite la taille de la zone dans laquelle\n",
    "#il a raison\n",
    "def choix_medecin(level_medecin,data):\n",
    "    nb_medecin = len(level_medecin)\n",
    "    nb_patient = len(data)\n",
    "    Mat = np.array([[(data[i])==(rd.random() < level_medecin[j]) for j in range(nb_medecin) ]for i in range(nb_patient)])\n",
    "    return Mat"
   ]
  },
  {
   "cell_type": "code",
   "execution_count": 146,
   "metadata": {
    "collapsed": false
   },
   "outputs": [
    {
     "data": {
      "text/plain": [
       "array([False,  True, False, False,  True, False, False, False,  True, False], dtype=bool)"
      ]
     },
     "execution_count": 146,
     "metadata": {},
     "output_type": "execute_result"
    }
   ],
   "source": [
    "w = np.array([0.5, 0.2])\n",
    "x = np.array([[1,0],[1,2]])\n",
    "\n",
    "don = np.array([i%2 for i in range(10)])\n",
    "lev = np.array([i*1.0/5 for i in range(5)])\n",
    "M = choix_medecin(lev,don)\n",
    "M[:,1]==don"
   ]
  }
 ],
 "metadata": {
  "kernelspec": {
   "display_name": "Python 3",
   "language": "python",
   "name": "python3"
  },
  "language_info": {
   "codemirror_mode": {
    "name": "ipython",
    "version": 3
   },
   "file_extension": ".py",
   "mimetype": "text/x-python",
   "name": "python",
   "nbconvert_exporter": "python",
   "pygments_lexer": "ipython3",
   "version": "3.5.2"
  }
 },
 "nbformat": 4,
 "nbformat_minor": 2
}
