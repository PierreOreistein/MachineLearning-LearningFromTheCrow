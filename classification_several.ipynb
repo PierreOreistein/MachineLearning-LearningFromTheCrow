{
 "cells": [
  {
   "cell_type": "code",
   "execution_count": 7,
   "metadata": {
    "collapsed": true
   },
   "outputs": [],
   "source": [
    "import numpy as np\n",
    "import matplotlib.pyplot as plt\n",
    "%matplotlib inline\n",
    "\n",
    "import pandas as pd\n",
    "import random as rd\n",
    "from tqdm import tqdm"
   ]
  },
  {
   "cell_type": "markdown",
   "metadata": {},
   "source": [
    "# Traitement données"
   ]
  },
  {
   "cell_type": "code",
   "execution_count": 3,
   "metadata": {
    "collapsed": true
   },
   "outputs": [],
   "source": [
    "def traitement(data_init):\n",
    "    n, m = np.shape(data_init)\n",
    "    result = np.zeros((0,m))\n",
    "    for i in range(n):\n",
    "        string = \"?\"\n",
    "        if string not in data_init[i,:]:\n",
    "            result = np.vstack((result, data_init[i,:]))\n",
    "    result = np.array(result, dtype = float)\n",
    "    return result"
   ]
  },
  {
   "cell_type": "code",
   "execution_count": 4,
   "metadata": {
    "collapsed": false
   },
   "outputs": [],
   "source": [
    "data_init = pd.read_csv(\"mammographic_masses.data\",header=None)\n",
    "data_init = np.array(data_init)\n",
    "clean_data = traitement(data_init)\n",
    "\n",
    "### Signification de chaque caracteristique, dans l'ordre ###\n",
    "# BI RADS\n",
    "# Age de la patiente\n",
    "# Forme de la masse, non ordinal\n",
    "# Frontière de la masse, non ordinal \n",
    "# Densité, ordinal\n",
    "# Bénigne (0) ou maline (1)"
   ]
  },
  {
   "cell_type": "code",
   "execution_count": 126,
   "metadata": {
    "collapsed": false
   },
   "outputs": [],
   "source": [
    "def norme(w):\n",
    "    # Renvoie la norme du vecteur w\n",
    "    return np.sqrt(w.dot(w))\n",
    "\n",
    "def sigma(x, w, gamma):\n",
    "    \"\"\"matrice sigma de taille (n,t)\"\"\"\n",
    "    gamma = gamma.reshape(1,-1)\n",
    "    return 1/(1+np.exp(-x.dot(w)-gamma))\n",
    "\n",
    "def p_y_xz(z, x, w, gamma):\n",
    "    \"\"\"matrice (n,t) qui renvoie une loi normale -> vérifier que c'est cela que l'on veut\"\"\"\n",
    "    s = sigma(x, w ,gamma)\n",
    "    Mat = np.random.normal(z,s.T)\n",
    "    return Mat.T\n",
    "\n",
    "def p_z_x(x, alpha, beta):\n",
    "    \"\"\"vecteur de taille n\"\"\"\n",
    "    alpha = alpha.reshape(-1,1)\n",
    "    return 1/(1+np.exp(-x.dot(alpha) - beta))\n",
    "\n",
    "def p_z(z, x, w, gamma, alpha, beta):\n",
    "    p1 = p_y_xz(z, x, w, gamma).prod(1).reshape(-1,1)\n",
    "    p2 = p_z_x(x, alpha, beta).reshape(-1,1)\n",
    "    return p1*p2"
   ]
  },
  {
   "cell_type": "code",
   "execution_count": null,
   "metadata": {
    "collapsed": true
   },
   "outputs": [],
   "source": [
    "def delta_p():\n",
    "    return 2\n",
    "\n",
    "def grad_alpha(x, alpha, beta):\n",
    "    \"\"\"dérivée de f_obj par alpha : vecteur de taille d\"\"\"\n",
    "    Delta_p = delta_p()\n",
    "    return x.T.dot(Delta_p*(np.exp(-x.dot(alpha) - beta))/(1+np.exp(-x.dot(alpha) - beta))**2)\n",
    "\n",
    "def grad_beta(x, alpha, beta):\n",
    "    \"\"\"dérivée de f_obj par beta : scalaire\"\"\"\n",
    "    Delta_p = delta_p()\n",
    "    return (Delta_p*(np.exp(-x.dot(alpha) - beta))/(1+np.exp(-x.dot(alpha) - beta))**2).sum()\n",
    "\n",
    "def grad_sigma(x, y, w, gamma):\n",
    "    \"\"\"derivée de f_opt par sigma : matrice n,t\"\"\"\n",
    "    Sigma = sigma(x, w ,gamma)\n",
    "    return (y**2 - (2*y-1)*p_z1)/Sigma - 1/Sigma\n",
    "\n",
    "def dsigma_w(x, w, gamma):\n",
    "    \"\"\"matrice de taille t,d\"\"\"\n",
    "    Sigma = sigma(x, w, gamma)\n",
    "    return x.T.dot(Sigma*(1-Sigma))\n",
    "\n",
    "def grad_w():\n",
    "    D1 = grad_sigma(x, y, w, gamma)\n",
    "    D2 = dsigma_w(x, w, gamma)"
   ]
  },
  {
   "cell_type": "code",
   "execution_count": 130,
   "metadata": {
    "collapsed": true
   },
   "outputs": [],
   "source": [
    "kldef EM_algorithm(annotations, donnees, verite, nb_iter = 50):\n",
    "    n,d = donnees.shape\n",
    "    n,t = annotations.shape\n",
    "    \n",
    "    #initialisaition\n",
    "    alpha = np.zeros(d)\n",
    "    alpha_news = np.ones(d)\n",
    "    beta = 0\n",
    "    beta_news = 1\n",
    "    w = np.ones(d,t)\n",
    "    gamma = np.ones(t)\n",
    "    epsilon = 0.01\n",
    "    \n",
    "    while norme(alpha-alpha_news) + (beta - beta_new)**2 > espilon :\n",
    "        #E-step\n",
    "        P_z = p_z(verite, donnees, w, gamma, alpha_new, beta_new)\n",
    "        #M-step\n",
    "        alpha, beta = alpha_new, beta_new\n",
    "        #mise à jour d'alpha et beta\n",
    "        \n",
    "        return(f)"
   ]
  },
  {
   "cell_type": "code",
   "execution_count": 129,
   "metadata": {
    "collapsed": false
   },
   "outputs": [
    {
     "ename": "AttributeError",
     "evalue": "'int' object has no attribute 'dot'",
     "output_type": "error",
     "traceback": [
      "\u001b[0;31m---------------------------------------------------------------------------\u001b[0m",
      "\u001b[0;31mAttributeError\u001b[0m                            Traceback (most recent call last)",
      "\u001b[0;32m<ipython-input-129-ef562888392c>\u001b[0m in \u001b[0;36m<module>\u001b[0;34m()\u001b[0m\n\u001b[1;32m      5\u001b[0m \u001b[0mAlpha\u001b[0m \u001b[1;33m=\u001b[0m \u001b[0mnp\u001b[0m\u001b[1;33m.\u001b[0m\u001b[0marray\u001b[0m\u001b[1;33m(\u001b[0m\u001b[1;33m[\u001b[0m\u001b[1;36m6\u001b[0m\u001b[1;33m,\u001b[0m\u001b[1;36m8\u001b[0m\u001b[1;33m,\u001b[0m\u001b[1;36m9\u001b[0m\u001b[1;33m]\u001b[0m\u001b[1;33m)\u001b[0m\u001b[1;33m\u001b[0m\u001b[0m\n\u001b[1;32m      6\u001b[0m \u001b[0mBeta\u001b[0m\u001b[1;33m=\u001b[0m \u001b[1;36m8\u001b[0m\u001b[1;33m\u001b[0m\u001b[0m\n\u001b[0;32m----> 7\u001b[0;31m \u001b[0mnorme\u001b[0m\u001b[1;33m(\u001b[0m\u001b[0mBeta\u001b[0m\u001b[1;33m)\u001b[0m\u001b[1;33m\u001b[0m\u001b[0m\n\u001b[0m",
      "\u001b[0;32m<ipython-input-126-7fa94dd4c6d4>\u001b[0m in \u001b[0;36mnorme\u001b[0;34m(w)\u001b[0m\n\u001b[1;32m      1\u001b[0m \u001b[1;32mdef\u001b[0m \u001b[0mnorme\u001b[0m\u001b[1;33m(\u001b[0m\u001b[0mw\u001b[0m\u001b[1;33m)\u001b[0m\u001b[1;33m:\u001b[0m\u001b[1;33m\u001b[0m\u001b[0m\n\u001b[1;32m      2\u001b[0m     \u001b[1;31m# Renvoie la norme du vecteur w\u001b[0m\u001b[1;33m\u001b[0m\u001b[1;33m\u001b[0m\u001b[0m\n\u001b[0;32m----> 3\u001b[0;31m     \u001b[1;32mreturn\u001b[0m \u001b[0mnp\u001b[0m\u001b[1;33m.\u001b[0m\u001b[0msqrt\u001b[0m\u001b[1;33m(\u001b[0m\u001b[0mw\u001b[0m\u001b[1;33m.\u001b[0m\u001b[0mdot\u001b[0m\u001b[1;33m(\u001b[0m\u001b[0mw\u001b[0m\u001b[1;33m)\u001b[0m\u001b[1;33m)\u001b[0m\u001b[1;33m\u001b[0m\u001b[0m\n\u001b[0m\u001b[1;32m      4\u001b[0m \u001b[1;33m\u001b[0m\u001b[0m\n\u001b[1;32m      5\u001b[0m \u001b[1;32mdef\u001b[0m \u001b[0msigma\u001b[0m\u001b[1;33m(\u001b[0m\u001b[0mx\u001b[0m\u001b[1;33m,\u001b[0m \u001b[0mw\u001b[0m\u001b[1;33m,\u001b[0m \u001b[0mgamma\u001b[0m\u001b[1;33m)\u001b[0m\u001b[1;33m:\u001b[0m\u001b[1;33m\u001b[0m\u001b[0m\n",
      "\u001b[0;31mAttributeError\u001b[0m: 'int' object has no attribute 'dot'"
     ]
    }
   ],
   "source": [
    "X = np.array([[1,2,3],[4,3,6],[8,5,6],[4,5,6],[4,5,6]])\n",
    "W = np.array([[-5,5,6,6],[4,0,28,52],[4,5,8,5]])\n",
    "G = np.array([1,2,3,5])\n",
    "Z = np.array([9,8,7,6,5])\n",
    "Alpha = np.array([6,8,9])\n",
    "Beta= 8\n",
    "norme(Beta)"
   ]
  }
 ],
 "metadata": {
  "kernelspec": {
   "display_name": "Python 3",
   "language": "python",
   "name": "python3"
  },
  "language_info": {
   "codemirror_mode": {
    "name": "ipython",
    "version": 3
   },
   "file_extension": ".py",
   "mimetype": "text/x-python",
   "name": "python",
   "nbconvert_exporter": "python",
   "pygments_lexer": "ipython3",
   "version": "3.6.0"
  }
 },
 "nbformat": 4,
 "nbformat_minor": 2
}
