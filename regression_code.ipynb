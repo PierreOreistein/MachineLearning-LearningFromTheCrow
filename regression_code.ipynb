{
 "cells": [
  {
   "cell_type": "markdown",
   "metadata": {
    "deletable": true,
    "editable": true
   },
   "source": [
    "## Bibliothèques"
   ]
  },
  {
   "cell_type": "code",
   "execution_count": 300,
   "metadata": {
    "collapsed": true,
    "deletable": true,
    "editable": true
   },
   "outputs": [],
   "source": [
    "import numpy as np\n",
    "from scipy.stats.stats import pearsonr\n",
    "import matplotlib.pyplot as plt\n",
    "%matplotlib inline\n",
    "\n",
    "import pandas as pd\n",
    "import random as rd\n",
    "from tqdm import tqdm"
   ]
  },
  {
   "cell_type": "markdown",
   "metadata": {
    "deletable": true,
    "editable": true
   },
   "source": [
    "## Données"
   ]
  },
  {
   "cell_type": "code",
   "execution_count": 152,
   "metadata": {
    "collapsed": true
   },
   "outputs": [],
   "source": [
    "def generate_toy_data(a, gamma, nbex):\n",
    "    # a donne les coefficients pour la regression, b le biais\n",
    "    X = 10 * np.random.random((nbex, len(a)))\n",
    "    noise = np.random.normal(0, np.sqrt(1 / gamma), nbex)\n",
    "    a = np.array(a).reshape(len(a), 1)\n",
    "    Y = np.dot(X, a) + noise.reshape(nbex, 1)\n",
    "    return X, Y"
   ]
  },
  {
   "cell_type": "code",
   "execution_count": 123,
   "metadata": {
    "collapsed": true,
    "deletable": true,
    "editable": true
   },
   "outputs": [],
   "source": [
    "def traitement(data_init):\n",
    "    n, m = np.shape(data_init)\n",
    "    result = np.zeros((0,m))\n",
    "    for i in range(n):\n",
    "        string = \"?\"\n",
    "        if string not in data_init[i,:] and data_init[i, 1] == \"R\":\n",
    "            result = np.vstack((result, data_init[i,:]))\n",
    "    result = result[:, 2:]\n",
    "    result = np.array(result, dtype = float)\n",
    "    return result"
   ]
  },
  {
   "cell_type": "markdown",
   "metadata": {
    "collapsed": false,
    "deletable": true,
    "editable": true
   },
   "source": [
    "# Simulation d'avis"
   ]
  },
  {
   "cell_type": "code",
   "execution_count": 213,
   "metadata": {
    "collapsed": false
   },
   "outputs": [],
   "source": [
    "def annotations_estim(values, lmbs):\n",
    "    annotations_nb = lmbs.shape[0]\n",
    "    values = np.repeat(values.reshape((-1, 1)), annotations_nb, axis = 1)\n",
    "    noise = np.random.normal(0, np.sqrt(1 / lmbs), (values.shape[0], annotations_nb))\n",
    "    return values + noise"
   ]
  },
  {
   "cell_type": "markdown",
   "metadata": {
    "deletable": true,
    "editable": true
   },
   "source": [
    "# Implémentation"
   ]
  },
  {
   "cell_type": "code",
   "execution_count": 135,
   "metadata": {
    "collapsed": true,
    "deletable": true,
    "editable": true
   },
   "outputs": [],
   "source": [
    "def lambda_vect(w, data, annotations):\n",
    "    sim_values = np.repeat(w.dot(data.T).reshape((-1, 1)), annotations.shape[1], axis = 1)\n",
    "    diff = annotations - sim_values\n",
    "    lambdas = np.sum(diff**2, axis = 0) / data.shape[0]\n",
    "    return 1 / lambdas\n",
    "    \n",
    "def w_vect(lambdas, data, annotations):\n",
    "    first_term = data.T.dot(data)\n",
    "    second_term = data.T.dot(annotations.dot(lambdas) / np.sum(lambdas))\n",
    "    return np.linalg.inv(first_term).dot(second_term)"
   ]
  },
  {
   "cell_type": "code",
   "execution_count": 127,
   "metadata": {
    "collapsed": true
   },
   "outputs": [],
   "source": [
    "def log_likelihood(w, lmbs, data, annotations):\n",
    "    log_lklhd = 0\n",
    "    for j in range(annotations.shape[1]):\n",
    "        log_lklhd += np.sum(0.5 * (np.log((lmbs[j]**2) / (2 * np.pi)) - (lmbs[j] * (annotations[:, j] - data.dot(w)))**2))\n",
    "    return log_lklhd"
   ]
  },
  {
   "cell_type": "code",
   "execution_count": 249,
   "metadata": {
    "collapsed": true,
    "deletable": true,
    "editable": true
   },
   "outputs": [],
   "source": [
    "def MLE_algorithm(data, annotations, winit, max_iter = 20, print_lklhd = False):\n",
    "    lmbs = lambda_vect(winit, data, annotations)\n",
    "    for ite in range(max_iter):\n",
    "        w = w_vect(lmbs, data, annotations)\n",
    "        lmbs = lambda_vect(w, data, annotations)\n",
    "        if print_lklhd and ite%5 == 1:\n",
    "            print(log_likelihood(w, lmbs, data, annotations))\n",
    "    return w, lmbs"
   ]
  },
  {
   "cell_type": "markdown",
   "metadata": {},
   "source": [
    "# Test sur données artificielles"
   ]
  },
  {
   "cell_type": "code",
   "execution_count": 242,
   "metadata": {
    "collapsed": true
   },
   "outputs": [],
   "source": [
    "# Generation des donnees artificielles pour test de l'algorithme\n",
    "\n",
    "toy_w = np.array([-0.5, 3, 1.4, 1, -2])\n",
    "toy_gamma = 2\n",
    "sample_nb = 2000\n",
    "toy_data, toy_values = generate_toy_data(w, toy_gamma, sample_nb)\n",
    "\n",
    "# Generation d'avis pour les donnees artificielles\n",
    "\n",
    "toy_taus = np.array([2, 1, 0.5])\n",
    "toy_annotations = annotations_estim(toy_values, toy_taus)"
   ]
  },
  {
   "cell_type": "code",
   "execution_count": 245,
   "metadata": {
    "collapsed": false
   },
   "outputs": [
    {
     "name": "stdout",
     "output_type": "stream",
     "text": [
      "w artificiel :  [-0.5  3.   1.4  1.  -2. ]\n",
      "w simulé :  [-0.49662406  2.998302    1.40701616  0.98920259 -1.99728412]\n",
      "lambda artificiel :  [ 1.          0.66666667  0.4       ]\n",
      "lambda simulé :  [ 1.00228426  0.65789697  0.38115328]\n"
     ]
    }
   ],
   "source": [
    "winit = np.random.random(5)\n",
    "sim_toy_w, sim_toy_lmbs = MLE_algorithm(toy_data, toy_annotations, winit, print_lklhd = False)\n",
    "\n",
    "print(\"w artificiel : \", toy_w)\n",
    "print(\"w simulé : \", sim_toy_w)\n",
    "print(\"lambda artificiel : \", (toy_taus * toy_gamma) / (toy_taus + toy_gamma))\n",
    "print(\"lambda simulé : \", sim_toy_lmbs)"
   ]
  },
  {
   "cell_type": "markdown",
   "metadata": {},
   "source": [
    "# Test sur données réelles"
   ]
  },
  {
   "cell_type": "code",
   "execution_count": 306,
   "metadata": {
    "collapsed": false
   },
   "outputs": [
    {
     "name": "stdout",
     "output_type": "stream",
     "text": [
      "Nombre de cas :  46\n",
      "Nombre de variables :  33\n"
     ]
    }
   ],
   "source": [
    "# Chargement des donnees, on ne garde que les cas de retour de cancer\n",
    "\n",
    "data_init = pd.read_csv(\"data_prognostic.data\",header=None)\n",
    "data_init = np.array(data_init)\n",
    "clean_data = traitement(data_init)\n",
    "\n",
    "data = clean_data[:, 1:]\n",
    "rec_time = clean_data[:, 0]\n",
    "\n",
    "print(\"Nombre de cas : \", clean_data.shape[0])\n",
    "print(\"Nombre de variables : \", clean_data.shape[1])\n",
    "\n",
    "# Generation d'avis pour les donnees reellles\n",
    "\n",
    "taus = np.array([0.01, 1, 0.1])\n",
    "annotations = annotations_estim(rec_time, taus)"
   ]
  },
  {
   "cell_type": "code",
   "execution_count": 295,
   "metadata": {
    "collapsed": false
   },
   "outputs": [
    {
     "name": "stdout",
     "output_type": "stream",
     "text": [
      "inverse de la variance (gamma) :  0.0103115871259\n"
     ]
    }
   ],
   "source": [
    "# Regression lineaire sur les donnees par moindre carre pour estimer w puis gamma\n",
    "\n",
    "real_w = np.linalg.inv(data.T.dot(data)).dot(data.T).dot(rec_time)\n",
    "real_noise = real_w.dot(data.T) - rec_time\n",
    "real_gamma = 1 / real_noise.var()\n",
    "\n",
    "print(\"inverse de la variance (gamma) : \", real_gamma)"
   ]
  },
  {
   "cell_type": "code",
   "execution_count": 304,
   "metadata": {
    "collapsed": false
   },
   "outputs": [
    {
     "name": "stdout",
     "output_type": "stream",
     "text": [
      "w reelle :  [  4.48174008e+01   7.37740006e-01  -7.31973132e+00   1.69471654e-01\n",
      "   3.06003495e+03   8.16022643e+01   1.33311351e+03  -2.63152910e+03\n",
      "   6.37024747e+02  -6.88602710e+03  -3.56838003e+02  -2.24391176e+01\n",
      "   9.70467528e+01  -1.70793063e+00  -5.35514606e+03  -4.64558387e+02\n",
      "  -1.54804256e+03   4.12742176e+03   1.11616200e+03  -7.60663619e+03\n",
      "   1.97745870e+01   4.42016862e-01  -5.36985080e+00   7.64584817e-02\n",
      "   7.71643953e+02  -3.31863165e+01  -1.03319909e+02  -3.55970732e+02\n",
      "  -2.80514847e+02   2.45553835e+03   8.33412201e-01   2.17809287e-01]\n",
      "w simulé :  [  5.92231290e+01   2.34018944e-01  -8.94467543e+00   1.45130555e-01\n",
      "   2.91112987e+03   4.40757317e+01   1.31599616e+03  -2.51982310e+03\n",
      "   6.63723770e+02  -6.72637064e+03  -3.50470646e+02  -2.47556368e+01\n",
      "   9.88136333e+01  -1.75632860e+00  -5.28549806e+03  -5.81885950e+02\n",
      "  -1.48037828e+03   3.43471494e+03   1.02402519e+03  -5.29831652e+03\n",
      "   1.74647725e+01   6.69153938e-01  -5.45473013e+00   8.87309863e-02\n",
      "   8.10329325e+02   1.08176186e+00  -1.13705876e+02  -3.14259851e+02\n",
      "  -2.90838259e+02   2.30346903e+03   6.34061709e-01   3.76422015e-01]\n",
      "lambda reel :  [ 0.0050767   0.01020634  0.00934769]\n",
      "lambda simulé :  [ 0.00573261  0.01019757  0.00966811]\n",
      "Coefficient de corrélation pour w :  0.989121215425\n",
      "Coefficient de corrélation pour la prédiction :  0.89623011627\n"
     ]
    },
    {
     "data": {
      "text/plain": [
       "<matplotlib.text.Text at 0x73eed6630>"
      ]
     },
     "execution_count": 304,
     "metadata": {},
     "output_type": "execute_result"
    },
    {
     "data": {
      "image/png": "[encoded data removed]",
      "text/plain": [
       "<matplotlib.figure.Figure at 0x73ddbc5f8>"
      ]
     },
     "metadata": {},
     "output_type": "display_data"
    }
   ],
   "source": [
    "winit = np.random.random(data.shape[1])\n",
    "sim_w, sim_lmbs = MLE_algorithm(data, annotations, winit, print_lklhd = False)\n",
    "\n",
    "print(\"w reelle : \", real_w)\n",
    "print(\"w simulé : \", sim_w)\n",
    "print(\"lambda reel : \", (taus * real_gamma) / (taus + real_gamma))\n",
    "print(\"lambda simulé : \", sim_lmbs)\n",
    "\n",
    "print(\"Coefficient de corrélation pour w : \", pearsonr(real_w, sim_w)[0])\n",
    "print(\"Coefficient de corrélation pour la prédiction : \", pearsonr(rec_time, sim_w.dot(data.T))[0])\n",
    "\n",
    "plt.figure()\n",
    "plt.plot(range(0, int(np.max(rec_time)) + 10), range(0, int(np.max(rec_time)) + 10))\n",
    "plt.plot(rec_time, sim_w.dot(data.T), \"gx\")\n",
    "plt.title(\"Corrélation entre la durée réelle et celle estimée\")\n",
    "plt.xlabel(\"Temps réel\")\n",
    "plt.ylabel(\"Temps estimé à l'aide du modèle\")"
   ]
  }
 ],
 "metadata": {
  "kernelspec": {
   "display_name": "Python 3",
   "language": "python",
   "name": "python3"
  },
  "language_info": {
   "codemirror_mode": {
    "name": "ipython",
    "version": 3
   },
   "file_extension": ".py",
   "mimetype": "text/x-python",
   "name": "python",
   "nbconvert_exporter": "python",
   "pygments_lexer": "ipython3",
   "version": "3.5.2"
  }
 },
 "nbformat": 4,
 "nbformat_minor": 2
}
